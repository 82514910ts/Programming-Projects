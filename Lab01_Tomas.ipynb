{
 "cells": [
  {
   "cell_type": "markdown",
   "id": "a852aec4-5f8f-4946-9b13-248bed81a697",
   "metadata": {},
   "source": [
    "# Lab 1: Arithmetic\n",
    "\n",
    "In this lab you will practice doing basic arithmetic in Python. You will also get more experience with Jupyter Notebooks, including practicing how to write math functions into the Markdown cells - a necessary step to really make the presentation of your work legible and complete"
   ]
  },
  {
   "cell_type": "markdown",
   "id": "4b1c01ae-b9f2-4303-b56c-92ceb0848e1c",
   "metadata": {},
   "source": [
    "## Part 1: Basic Arithmetic in Python (10 pts)\n",
    "\n",
    "In a code cell below this one, complete problem R2.5 of the text. Write your guess in a comment, run the code, and then say in a comment if your guess was right (and, if not, what you missed). Put each comment next to the code that tests that guess! "
   ]
  },
  {
   "cell_type": "code",
   "execution_count": 124,
   "id": "3f7c51ba-b075-412d-8dd4-bd6312cec2f4",
   "metadata": {},
   "outputs": [
    {
     "name": "stdout",
     "output_type": "stream",
     "text": [
      "6.25\n",
      "6\n",
      "11.7\n",
      "-3\n",
      "1.4142135623730951\n"
     ]
    }
   ],
   "source": [
    "# This are our given values \n",
    "x = 2.5\n",
    "y = -1.5\n",
    "m = 18\n",
    "n = 4\n",
    "\n",
    "## For part (a), I assume the value will result in 6.25.\n",
    "a = x + n * y - (x + n) * y\n",
    "print(a)\n",
    "# My assumptions as correct.\n",
    "\n",
    "\n",
    "## For part (b),  I assume the value will result in 6.\n",
    "b = m // n + m % n\n",
    "print(b)\n",
    "# My assumption was correct.\n",
    "\n",
    "\n",
    "## For part (c), I assume the value will result in 11.7\n",
    "c = 5 * x - n / 5\n",
    "print(c)\n",
    "# My assumption was correct.\n",
    "\n",
    "\n",
    "## For part (d), I assume the value will result in 3.\n",
    "d = 1 - (1 - (1 - (1 - (1 - n)))) \n",
    "print(d)\n",
    "# My assumption was incorrect.\n",
    "\n",
    "\n",
    "# For part (e), I assume the value will result in 1.414\n",
    "e = sqrt(sqrt(n))\n",
    "print(e)\n",
    "# My assumption was correct. "
   ]
  },
  {
   "cell_type": "markdown",
   "id": "8d0ec62e-3788-44c1-9590-ec57492dd6b9",
   "metadata": {},
   "source": [
    "## Part 2: Mathematical Expression in Markdown and More Arithmetic (15 pts)\n",
    "\n",
    "For this problem you will be completing R2.3 of the text. First, create a *Markdown* cell below this one and write in the 4 mathematical expressions. See the resources on Canvas about how to write mathematical functions into a Markdown cell (for those that are familiar, it is the same formatting as LaTeX/Overleaf). \n",
    "\n",
    "Then in a code cell below that, actually do the problem. Your goal is to write the expressions as a Python expression that interprets correctly. To make these expressions interpret, you will first need to define all the component variables (e.g. s_0, v_t, t, and g for the first one). You can set these variables to whatever values you want - I'll just be looking at the mathematical expressions after you create the variables."
   ]
  },
  {
   "cell_type": "markdown",
   "id": "5a5d86d7-6bc7-4153-b9e6-82eaad970308",
   "metadata": {},
   "source": [
    "from math import sqrt, cos, pi\n",
    "\n",
    "# Equation 1\n",
    "s_0 = 0\n",
    "v_0 = 0\n",
    "t   = 1\n",
    "g   = 1\n",
    "\n",
    "$$\n",
    "s = s_0 + v_0t + \\frac1 2 g t^2\n",
    "$$\n",
    "\n",
    "# Equation 2\n",
    "PV = 1\n",
    "INT = 1\n",
    "YRS = 1\n",
    "\n",
    "$$\n",
    "FV = PV \\cdot \\left(1 + \\frac{INT}{100}\\right)^{YRS}\n",
    "$$\n",
    "\n",
    "# Equation 3\n",
    "p = 1\n",
    "m_1 = 2\n",
    "m_2 = 2\n",
    "a\n",
    "\n",
    "$$\n",
    "G = 4\\pi^2 \\frac{a^3}{p^2(m_1 + m_2)}\n",
    "$$\n",
    "\n",
    "# Equation 4\n",
    "a = 1\n",
    "b = 2\n",
    "\n",
    "$$\n",
    "c = \\sqrt{a^2 + b^2 - 2ab\\cos\\gamma}\n",
    "$$\n"
   ]
  },
  {
   "cell_type": "markdown",
   "id": "1799b556-e086-4450-be85-4c8d33fdbcbf",
   "metadata": {},
   "source": [
    "## Part 3: Multi-Step Arithmetic (10 pts)\n",
    "\n",
    "In a code cell below this one, complete problem P2.21 of the text. Rather than asking for a user input of the year, just set the year to be a variable that you assign at the beginning of the cell. The progam should end by outputting a statement along the lines of: \"In the year ______ Easter Sunday will be on the _______ day of the _______ month\" "
   ]
  },
  {
   "cell_type": "code",
   "execution_count": 109,
   "id": "2ce6f2c0-fe74-4414-ba42-edfa36b4786b",
   "metadata": {},
   "outputs": [
    {
     "ename": "SyntaxError",
     "evalue": "invalid syntax (1923057846.py, line 3)",
     "output_type": "error",
     "traceback": [
      "\u001b[0;36m  Cell \u001b[0;32mIn[109], line 3\u001b[0;36m\u001b[0m\n\u001b[0;31m    a = y / 19 mod\u001b[0m\n\u001b[0m               ^\u001b[0m\n\u001b[0;31mSyntaxError\u001b[0m\u001b[0;31m:\u001b[0m invalid syntax\n"
     ]
    }
   ],
   "source": [
    "y = 2025\n",
    "\n",
    "a = y / 19 mod"
   ]
  },
  {
   "cell_type": "code",
   "execution_count": null,
   "id": "ba7be106-50a5-458c-9681-c115c506b727",
   "metadata": {},
   "outputs": [],
   "source": []
  },
  {
   "cell_type": "code",
   "execution_count": null,
   "id": "5104e77e-82ce-41e4-b85e-a62d9751f2d8",
   "metadata": {},
   "outputs": [],
   "source": []
  },
  {
   "cell_type": "code",
   "execution_count": null,
   "id": "13e6c10c-5272-4a6b-bb8a-fa108cf941d0",
   "metadata": {},
   "outputs": [],
   "source": []
  }
 ],
 "metadata": {
  "kernelspec": {
   "display_name": "Python [conda env:base] *",
   "language": "python",
   "name": "conda-base-py"
  },
  "language_info": {
   "codemirror_mode": {
    "name": "ipython",
    "version": 3
   },
   "file_extension": ".py",
   "mimetype": "text/x-python",
   "name": "python",
   "nbconvert_exporter": "python",
   "pygments_lexer": "ipython3",
   "version": "3.12.7"
  }
 },
 "nbformat": 4,
 "nbformat_minor": 5
}
