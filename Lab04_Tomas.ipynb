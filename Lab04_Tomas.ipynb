{
 "cells": [
  {
   "cell_type": "markdown",
   "id": "cc314510-d3b2-488a-b874-6ed89cee1336",
   "metadata": {},
   "source": [
    "# <center> Lab 04: Loops </center>\n",
    "\n",
    "This lab is designed to get you some additional practice with while loops in Python. We will do so by building a program we already know how to do and then slowly add loops.  You do not need to save earlier steps as you go separately - just change what you have (if you really want to, copy/paste your code to a separate cell before continuing and making changes).  The final goal is a single program incorporating all steps. The entire assignment, with all steps correctly implemented, will be worth 30 points."
   ]
  },
  {
   "cell_type": "markdown",
   "id": "b0c19e68-03f8-45aa-9496-1c1133a5821b",
   "metadata": {},
   "source": [
    "\n",
    "### Step 1 (2 pts)\n",
    "First look at [this page](https://courses.lumenlearning.com/geo/chapter/reading-magnitude-versus-intensity/) which, in the Ranking Earthquake Intensity section first table, converts earthquake magnitude to intensity (do not use the second table - it won't quite match the numbers below). We will be taking as input magnitude as a float and then outputting the appropriate Abbreviated Modified Mercalli Intensity (AMMI) for that magnitude using that first table (the one with descriptions).  To start setup an appropriate input() to read in the magnitude."
   ]
  },
  {
   "cell_type": "code",
   "execution_count": null,
   "id": "65424230-eb42-425b-99d6-da1c0b6642c9",
   "metadata": {},
   "outputs": [],
   "source": [
    "magnitude = float(input(\"Enter the magnitude of an earthquake: \")"
   ]
  },
  {
   "cell_type": "markdown",
   "id": "05095f18-3997-49eb-9ab5-2c3e8dadfdd0",
   "metadata": {},
   "source": [
    "### Step 2 (4 pts)\n",
    "Create a series of if-elif-else statements that prints the **minimum** AMMI for each possible input using the above web page as reference. For example, if I input 3.0, it prints II. If I input 7.5, it prints IX (the lowest possible intensity for that magnitude on the first table). Note that there are magnitude \"gaps\" in the system. For example, 3.91 is nowhere. Fix your code so that you round to the nearest tenth - thus, this particular error is avoided (i.e., if I type 3.91, it will round to 3.9 and output II; if I type 3.97, it rounds to 4.0 which is output IV)."
   ]
  },
  {
   "cell_type": "code",
   "execution_count": 9,
   "id": "b2d58534-6008-4d1b-a55f-b4d30907f64e",
   "metadata": {},
   "outputs": [
    {
     "name": "stdin",
     "output_type": "stream",
     "text": [
      "Enter the magnitude of an earthquake:  3.9999\n"
     ]
    },
    {
     "name": "stdout",
     "output_type": "stream",
     "text": [
      "IV-V\n"
     ]
    }
   ],
   "source": [
    "# Allows user to input magnitude of earthquake.\n",
    "magnitude = float(input(\"Enter the magnitude of an earthquake: \"))\n",
    "\n",
    "# Rounds to the nearest tenth\n",
    "roundMag = round(magnitude, 1)\n",
    "\n",
    "# prints the minimum AMMI\n",
    "if 0 <= roundMag <= 1.9:\n",
    "    print(\"--\")\n",
    "elif 2.0 <= roundMag <= 2.9:\n",
    "    print(\"I\")\n",
    "elif 3.0 <= roundMag <= 3.9:\n",
    "    print(\"II\")\n",
    "elif 4.0 <= roundMag <= 4.9:\n",
    "    print(\"IV\")\n",
    "elif 5.0 <= roundMag <= 5.9:\n",
    "    print(\"VI\")\n",
    "elif 6.0 <= roundMag <= 6.9:\n",
    "    print(\"VII\")\n",
    "elif 7.0 <= roundMag <= 7.9:\n",
    "    print(\"IX\")\n",
    "elif 8.0 <= roundMag <= 8.9:\n",
    "    print(\"X\")\n",
    "else:\n",
    "    print(\"XI\")\n"
   ]
  },
  {
   "cell_type": "markdown",
   "id": "fe62ca75-3817-48c8-9d27-a415a87786e6",
   "metadata": {},
   "source": [
    "### Step 3 (2 pts)\n",
    "\n",
    "The next step uses the random library, which we used in the Smiley Lab. To prepare to do that, take a look at the [documentation page](https://docs.python.org/3/library/random.html) on the random library which is included in Python. In particular, after including the line \"from random import *\" to set things up, the basic examples shows you how to generate random numbers. Just for practice, in your repl, generate a random integer between 0 and 10 (including 0 and 10) and print it. Comment out (do not delete!) any print statement from this step before continuing - I just want to make sure you're doing this part right later on!"
   ]
  },
  {
   "cell_type": "code",
   "execution_count": 17,
   "id": "dd961195-61bd-4776-834b-a8c76124c4e6",
   "metadata": {},
   "outputs": [
    {
     "name": "stdout",
     "output_type": "stream",
     "text": [
      "7\n"
     ]
    }
   ],
   "source": [
    "from random import *\n",
    "\n",
    "randomNum = randrange(0,10)\n",
    "#print(randomNum)"
   ]
  },
  {
   "cell_type": "markdown",
   "id": "8aef082c-9b1d-49d8-bcb0-0e8ce277b3fe",
   "metadata": {},
   "source": [
    "### Step 4 (8 pts)\n",
    "\n",
    "Now let's bring the random library to the earthquake application. Depending on the user input, write code using the random library to randomly select which AMMI to use for each magnitude range. To be very specific:\n",
    "- If I input magnitude 1-2.9, it should always output AMMI I (no randomness needed).\n",
    "- If I input magnitude 3-3.9, it should randomly generate a number 0 or 1. If 0 is generated, output AMMI II. If 1 is generated, output AMMI III.\n",
    "- If I input magnitude 4-4.9, use the same approach as 3-3.9 to generate IV or V AMMI.\n",
    "- If I input magnitude 5-5.9, use the same approach as 3-3.9 to generate VI or VII AMMI.\n",
    "- If I input magnitude 6-6.9, you need to randomly generate 0, 1, or 2 then match those to AMMI output of VII, VIII, and IX.\n",
    "-If I input magnitude 7.0 or more, you use the above approach to generate VIII, IX, X, XI, or XII.\n",
    "\n",
    "Note: Yes, this means that a 5.9 might translate to VI while a later 5.5 maps to VII - this simulates the way that magnitude and intensity aren't quite the same things"
   ]
  },
  {
   "cell_type": "code",
   "execution_count": null,
   "id": "b689a5fd-e536-44f7-a0be-8af39a7263e6",
   "metadata": {},
   "outputs": [],
   "source": [
    "from random import *\n",
    "\n",
    "# Allows user to input magnitude of earthquake.\n",
    "magnitude = float(input(\"Enter the magnitude of an earthquake: \"))\n",
    "\n",
    "# Rounds to the nearest tenth\n",
    "roundMag = round(magnitude, 1)\n",
    "\n",
    "if 1.0 <= roundMag <= 2.9:\n",
    "    print(\"I\")\n",
    "elif 3.0 <= roundMag <= 3.9:\n",
    "    randomNum = randrange(0, 1)\n",
    "    if randomNum == 0:\n",
    "        print(\"II\")\n",
    "    else:\n",
    "        print(\"III\")\n",
    "elif 4.0 <= roundMag <= 4.9:\n",
    "    randomNum = randrange(0, 1)\n",
    "    if randomNum == 0:\n",
    "        print(\"IV\")\n",
    "    else:\n",
    "        print(\"V\")\n",
    "elif 5.0 <= roundMag <= 5.9:\n",
    "    randomNum = randrange(0, 1)\n",
    "    if randomNum == 0:\n",
    "        print(\"VI\")\n",
    "    else:\n",
    "        print(\"VII\")\n",
    "elif 6.0 <= roundMag <= 6.9:\n",
    "    randomNum = randrange(0, 2)\n",
    "    if randomNum == 0:\n",
    "        print(\"VII\")\n",
    "    elif randomNum == 1:\n",
    "        print(\"VIII\")\n",
    "    else:\n",
    "        print(\"IX\")\n",
    "elif roundMag >= 7.0:\n",
    "    randomNum = randrange(0, 4)\n",
    "    if randomNum == 0:\n",
    "        print(\"VIII\")\n",
    "    elif randomNum == 1:\n",
    "        print(\"IX\")\n",
    "    elif randomNum == 2:\n",
    "        print(\"X\")\n",
    "    elif randomNum == 3:\n",
    "        print(\"XI\")\n",
    "    else:\n",
    "        print(\"XII\")\n"
   ]
  },
  {
   "cell_type": "markdown",
   "id": "99d543c9-7404-4454-b727-e63d1d5e7a30",
   "metadata": {},
   "source": [
    "### Step 5 (2 pts)\n",
    "Now we add loops: Right now, when you run the program, you should be able to type in a single number, get a single output, and then it stops. Add a while loop that goes forever by putting: while True: above your input() statement. Indent ALL other code coming after this while statement. \n",
    "\n",
    "Tip: You can indent a bunch of lines of code by selecting all of the code then hitting tab.\n",
    "\n",
    "Run the code with the above modification. How many numbers can you now input (hitting return between each one)? How do you exit the program? Put this in a comment right above the while True: entered in the last step."
   ]
  },
  {
   "cell_type": "code",
   "execution_count": 19,
   "id": "24d4202f-e4eb-4656-a880-90aa030b62e0",
   "metadata": {},
   "outputs": [
    {
     "name": "stdin",
     "output_type": "stream",
     "text": [
      "Enter the magnitude of an earthquake:  8\n"
     ]
    },
    {
     "name": "stdout",
     "output_type": "stream",
     "text": [
      "XI\n"
     ]
    },
    {
     "name": "stdin",
     "output_type": "stream",
     "text": [
      "Enter the magnitude of an earthquake:  1\n"
     ]
    },
    {
     "name": "stdout",
     "output_type": "stream",
     "text": [
      "I\n"
     ]
    },
    {
     "name": "stdin",
     "output_type": "stream",
     "text": [
      "Enter the magnitude of an earthquake:  2\n"
     ]
    },
    {
     "name": "stdout",
     "output_type": "stream",
     "text": [
      "I\n"
     ]
    },
    {
     "name": "stdin",
     "output_type": "stream",
     "text": [
      "Enter the magnitude of an earthquake:  3\n"
     ]
    },
    {
     "name": "stdout",
     "output_type": "stream",
     "text": [
      "II\n"
     ]
    },
    {
     "name": "stdin",
     "output_type": "stream",
     "text": [
      "Enter the magnitude of an earthquake:  a\n"
     ]
    },
    {
     "ename": "ValueError",
     "evalue": "could not convert string to float: 'a'",
     "output_type": "error",
     "traceback": [
      "\u001b[0;31m---------------------------------------------------------------------------\u001b[0m",
      "\u001b[0;31mValueError\u001b[0m                                Traceback (most recent call last)",
      "Cell \u001b[0;32mIn[19], line 8\u001b[0m\n\u001b[1;32m      4\u001b[0m \u001b[38;5;66;03m# You can add an infinite number of inputs.\u001b[39;00m\n\u001b[1;32m      6\u001b[0m \u001b[38;5;28;01mwhile\u001b[39;00m \u001b[38;5;28;01mTrue\u001b[39;00m:\n\u001b[1;32m      7\u001b[0m     \u001b[38;5;66;03m# Allows user to input magnitude of earthquake.\u001b[39;00m\n\u001b[0;32m----> 8\u001b[0m     magnitude \u001b[38;5;241m=\u001b[39m \u001b[38;5;28mfloat\u001b[39m(\u001b[38;5;28minput\u001b[39m(\u001b[38;5;124m\"\u001b[39m\u001b[38;5;124mEnter the magnitude of an earthquake: \u001b[39m\u001b[38;5;124m\"\u001b[39m))\n\u001b[1;32m     10\u001b[0m     \u001b[38;5;66;03m# Rounds to the nearest tenth\u001b[39;00m\n\u001b[1;32m     11\u001b[0m     roundMag \u001b[38;5;241m=\u001b[39m \u001b[38;5;28mround\u001b[39m(magnitude, \u001b[38;5;241m1\u001b[39m)\n",
      "\u001b[0;31mValueError\u001b[0m: could not convert string to float: 'a'"
     ]
    }
   ],
   "source": [
    "from random import *\n",
    "\n",
    "\n",
    "# You can add an infinite number of inputs. You can end the code by entering a string. \n",
    "\n",
    "while True:\n",
    "    # Allows user to input magnitude of earthquake.\n",
    "    magnitude = float(input(\"Enter the magnitude of an earthquake: \"))\n",
    "\n",
    "    # Rounds to the nearest tenth\n",
    "    roundMag = round(magnitude, 1)\n",
    "\n",
    "    if 1.0 <= roundMag <= 2.9:\n",
    "        print(\"I\")\n",
    "    elif 3.0 <= roundMag <= 3.9:\n",
    "        randomNum = randrange(0, 1)\n",
    "        if randomNum == 0:\n",
    "            print(\"II\")\n",
    "        else:\n",
    "            print(\"III\")\n",
    "    elif 4.0 <= roundMag <= 4.9:\n",
    "        randomNum = randrange(0, 1)\n",
    "        if randomNum == 0:\n",
    "            print(\"IV\")\n",
    "        else:\n",
    "            print(\"V\")\n",
    "    elif 5.0 <= roundMag <= 5.9:\n",
    "        randomNum = randrange(0, 1)\n",
    "        if randomNum == 0:\n",
    "            print(\"VI\")\n",
    "        else:\n",
    "            print(\"VII\")\n",
    "    elif 6.0 <= roundMag <= 6.9:\n",
    "        randomNum = randrange(0, 2)\n",
    "        if randomNum == 0:\n",
    "            print(\"VII\")\n",
    "        elif randomNum == 1:\n",
    "            print(\"VIII\")\n",
    "        else:\n",
    "            print(\"IX\")\n",
    "    elif roundMag >= 7.0:\n",
    "        randomNum = randrange(0, 4)\n",
    "        if randomNum == 0:\n",
    "            print(\"VIII\")\n",
    "        elif randomNum == 1:\n",
    "            print(\"IX\")\n",
    "        elif randomNum == 2:\n",
    "            print(\"X\")\n",
    "        elif randomNum == 3:\n",
    "            print(\"XI\")\n",
    "        else:\n",
    "            print(\"XII\") "
   ]
  },
  {
   "cell_type": "markdown",
   "id": "65ffecb9-4307-46df-b367-b2325f1c423f",
   "metadata": {},
   "source": [
    "### Step 6 (4 pts)\n",
    "\n",
    "Let's fix it so we can process any number of inputs but we also can exit the program. Let's put into the input prompt as statement that any number below 1 will be interpreted as a request to exit the program. Change the statement while True: to only be True when the input is greater than or equal to 1. You will likely need to set your magnitude to a large positive number before you hit the while. Test your program! (FYI, this \"less than 1\" is called a sentinel set of values as discussed in Section 4.2.)"
   ]
  },
  {
   "cell_type": "code",
   "execution_count": null,
   "id": "48bdb3b4-d0aa-451a-8c47-2871257fbab6",
   "metadata": {},
   "outputs": [
    {
     "name": "stdin",
     "output_type": "stream",
     "text": [
      "Enter the magnitude of an earthquake (any number less than 1 will exit the program:  0\n",
      "Enter the magnitude of an earthquake (any number less than 1 will exit the program:  0\n"
     ]
    }
   ],
   "source": [
    "from random import *\n",
    "\n",
    "\n",
    "# You can add an infinite number of inputs. You can end the code by entering a string. \n",
    "\n",
    "while True >= 1:\n",
    "    # Allows user to input magnitude of earthquake.\n",
    "    magnitude = float(input(\"Enter the magnitude of an earthquake (any number less than 1 will exit the program: \"))\n",
    "    \n",
    "    # Rounds to the nearest tenth\n",
    "    roundMag = round(magnitude, 1)\n",
    "\n",
    "    if 1.0 <= roundMag <= 2.9:\n",
    "        print(\"I\")\n",
    "    elif 3.0 <= roundMag <= 3.9:\n",
    "        randomNum = randrange(0, 1)\n",
    "        if randomNum == 0:\n",
    "            print(\"II\")\n",
    "        else:\n",
    "            print(\"III\")\n",
    "    elif 4.0 <= roundMag <= 4.9:\n",
    "        randomNum = randrange(0, 1)\n",
    "        if randomNum == 0:\n",
    "            print(\"IV\")\n",
    "        else:\n",
    "            print(\"V\")\n",
    "    elif 5.0 <= roundMag <= 5.9:\n",
    "        randomNum = randrange(0, 1)\n",
    "        if randomNum == 0:\n",
    "            print(\"VI\")\n",
    "        else:\n",
    "            print(\"VII\")\n",
    "    elif 6.0 <= roundMag <= 6.9:\n",
    "        randomNum = randrange(0, 2)\n",
    "        if randomNum == 0:\n",
    "            print(\"VII\")\n",
    "        elif randomNum == 1:\n",
    "            print(\"VIII\")\n",
    "        else:\n",
    "            print(\"IX\")\n",
    "    elif roundMag >= 7.0:\n",
    "        randomNum = randrange(0, 4)\n",
    "        if randomNum == 0:\n",
    "            print(\"VIII\")\n",
    "        elif randomNum == 1:\n",
    "            print(\"IX\")\n",
    "        elif randomNum == 2:\n",
    "            print(\"X\")\n",
    "        elif randomNum == 3:\n",
    "            print(\"XI\")\n",
    "        else:\n",
    "            print(\"XII\")"
   ]
  },
  {
   "cell_type": "markdown",
   "id": "aa432a81-20ea-4e88-ba25-9806380c734f",
   "metadata": {},
   "source": [
    "### Step 7 (6 pts)\n",
    "\n",
    "Add two int variables (both starting at 0) to track (a) how many total earthquakes are entered and (b) how many earthquakes are greater than or equal to 5.0 in magnitude. Report these numbers after the loop is done along with the % \"big\" earthquakes (one variable divided by the other times 100). \n",
    "\n",
    "Note: Optionally, you should really check to make sure there is at least one earthquake before calculating the percentage (outputting just \"no earthquakes\" if (a) is 0)."
   ]
  },
  {
   "cell_type": "code",
   "execution_count": null,
   "id": "49f3371f-5b1a-47dd-b587-e53581e2895a",
   "metadata": {},
   "outputs": [],
   "source": []
  },
  {
   "cell_type": "markdown",
   "id": "4e8e2f90-7600-4c6c-bdde-5bb510b5bb2b",
   "metadata": {},
   "source": [
    "### Step 8 (2 pts)\n",
    "\n",
    "Last, just to clean up, add the descriptions of each earthquake intensity from the Abbreviated Modified Mercalli Intensity Scale section of this page to your output of AMMI for each intensity level (yes, please copy/paste over these descriptions). So, instead of \"IMMO I\" it should now print \"Intensity I - Not felt except by a very few under especially favorable conditions.\""
   ]
  },
  {
   "cell_type": "markdown",
   "id": "a92b18a3-dc7b-4bdc-ac61-c1ea0436fb8f",
   "metadata": {},
   "source": [
    "Here is an example run (your program need not have *exactly* the same outputs/prompts):\n",
    "\n",
    "```\n",
    "Welcome to the Earthquake Magnitude -> Intensity Converter!\n",
    "Magnitude? 3.1\n",
    "Intensity II - Felt only by a few persons at rest, especially on upper floors of buildings.\n",
    "Magnitude? 7.5\n",
    "Intensity XI - Few, if any (masonry) structures remain standing. Bridges destroyed. Rails bent greatly.\n",
    "Magnitude? 0\n",
    "You entered 2 magnitudes, 1 of which was \"big\".\n",
    "That's 50.0% big earthquakes!\n",
    "```"
   ]
  },
  {
   "cell_type": "code",
   "execution_count": null,
   "id": "11631745-bf3b-4b9d-9f8c-16a3f9dd0cc6",
   "metadata": {},
   "outputs": [],
   "source": []
  }
 ],
 "metadata": {
  "kernelspec": {
   "display_name": "Python [conda env:base] *",
   "language": "python",
   "name": "conda-base-py"
  },
  "language_info": {
   "codemirror_mode": {
    "name": "ipython",
    "version": 3
   },
   "file_extension": ".py",
   "mimetype": "text/x-python",
   "name": "python",
   "nbconvert_exporter": "python",
   "pygments_lexer": "ipython3",
   "version": "3.12.7"
  }
 },
 "nbformat": 4,
 "nbformat_minor": 5
}
