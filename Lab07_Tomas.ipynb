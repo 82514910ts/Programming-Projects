{
 "cells": [
  {
   "cell_type": "markdown",
   "id": "1708366b-9d74-4cb7-b582-f1552b0155b6",
   "metadata": {},
   "source": [
    "# <center> Lab 07: Input/Output </center>\n",
    "\n",
    "Today you are going to get more practice with lists and user-defined functions. You are also going to practice with file reading and writing. You will need to download the file `babynames.txt` from Canvas and save it in the same folder that this Lab Notebook is stored in. \n",
    "\n",
    "As usual, rename the lab notebook as Lab07_yourlastname.\n"
   ]
  },
  {
   "cell_type": "markdown",
   "id": "6db7f597-08ac-4b11-9c4c-50ada82fdd77",
   "metadata": {},
   "source": [
    "## Part 1 Standard Deviation (20 pts)\n",
    "\n",
    "First create a program below that prompts the user for a file. That file should just be a list of numbers (I used 1 2 3 each on their own line). It then calculates and outputs the mean/average and standard deviation (SD) of those numbers (using print()). The formula to use for the SD is found through the following mini-algorithm: \n",
    "\n",
    "1. Find the average of the values.\n",
    "2. Find the sum of the square of the difference between each item you read in and the average. So, if I only have 3 inputs 1,2,3, the average is 2 so the sum of the square of the differences is: (2-1)^2 + (2-2)^2 + (2-3)^2 = 2 (in this example).\n",
    "3. Divide the value in the previous step by (n-1) (for n numbers). In my above example, that would be 2/2 = 1.\n",
    "4. Take the square root of the value from the previous step. In my example, sqrt(1) = 1.\n",
    "\n",
    "**Program Specifications**\n",
    "1. You cannot close and open the file to re-enter numbers - save them in a list the first time you read them\n",
    "2. You cannot ask your user to input anything but the file name\n",
    "3. Your program should have a total of 3 user defined functions:\n",
    "    1. a main function that asks the user for a filename, calls the other 2 functions, and prints to the console\n",
    "    2. a function that reads in the data and stores it in a list\n",
    "    3. a function that returns the standard deviation (you can also have it return the average, or you can have the average calculated in main)\n",
    "4. You do not need to deal with exceptions - if your file has a non-number, it's fine to crash.\n",
    "5. Your code should be properly commented!\n",
    "   "
   ]
  },
  {
   "cell_type": "code",
   "execution_count": 17,
   "id": "41397bba-c48e-4fdb-b480-c085d28112f1",
   "metadata": {},
   "outputs": [
    {
     "name": "stdin",
     "output_type": "stream",
     "text": [
      "Enter the filename:  testone.txt\n"
     ]
    },
    {
     "name": "stdout",
     "output_type": "stream",
     "text": [
      "Average:  4.5\n",
      "Standard Deviation:  2.449489742783178\n"
     ]
    }
   ],
   "source": [
    "# Imports the entire math library\n",
    "from math import *\n",
    "\n",
    "# Reads the data from the imported file.\n",
    "def readData(filename):\n",
    "    # Stores the data in a list.\n",
    "    data = []\n",
    "\n",
    "    try:\n",
    "        # Open the reading file. I used my own txt file named testone.txt\n",
    "        file = open(filename, \"r\")\n",
    "        for line in file:\n",
    "            line.strip()\n",
    "            # Converts each line of data into a integer and adds it to the list\n",
    "            data.append(int(line))\n",
    "        file.close()\n",
    "    # Used if file is not found\n",
    "    except FileNotFoundError:\n",
    "        exit()\n",
    "    \n",
    "    return data\n",
    "\n",
    "# Calculates the average and standard deviation \n",
    "def calculateStandardDeviation(data):\n",
    "    n = len(data)\n",
    "    if n == 0:\n",
    "        # So, I was getting an error because some of the data can't be divided by so\n",
    "        # it is important to include this.\n",
    "        return 0, 0\n",
    "    # Calculates the average of the values.    \n",
    "    average = sum(data) / n\n",
    "\n",
    "    # Calculates the sum of the squares of the difference\n",
    "    sumOfSquares = 0\n",
    "    for x in data:\n",
    "        sumOfSquares += (x - average) ** 2\n",
    "    \n",
    "    # Divides the value from the equation above.\n",
    "    divide = sumOfSquares / (n - 1)\n",
    "\n",
    "    # Calculates the standard deviation.\n",
    "    standardDeviation = sqrt(divide)\n",
    "\n",
    "    return average, standardDeviation\n",
    "\n",
    "# Runs the program\n",
    "def main():\n",
    "    # Asks user for a file to be imported\n",
    "    filename = input(\"Enter the filename: \")\n",
    "\n",
    "    # Read data and calculates the average and standard deviation\n",
    "    data = readData(filename)\n",
    "    average, standardDeviation = calculateStandardDeviation(data)\n",
    "\n",
    "    print(\"Average: \", average)\n",
    "    print(\"Standard Deviation: \", standardDeviation)\n",
    "    \n",
    "\n",
    "main()\n",
    "        \n",
    "\n",
    "    "
   ]
  },
  {
   "cell_type": "markdown",
   "id": "77a1742c-eda5-4671-8a89-f52694598777",
   "metadata": {},
   "source": [
    "## Part 2: Baby Names (15 pts)\n",
    "\n",
    "In a code cell below this, create a program that reads the file `babynames.txt` . This file has 1000 lines and 5 columns which are tab delimited. The file lists the top 1000 names in the United States in 2023 for babies identified boy at birth and babies identified girl at birth. The first column is the rank of the name, the second column is the boy name, the third column is the percentage of all births that were given that name, the fourth column is the girl name, and the fifth column is the percentage of all births that were given that name. You are going to write a program that identifies all names that show up in both the boy and girl lists and calculates what percentage of all births are given that name. At the end you will open a new file, 'SameNames.txt' where you will write each name and the percentage.\n",
    "\n",
    "**Program Specifications**\n",
    "1. You will want to read the data into 4 lists - boyNames, boyPercent, girlNames, girlPercent\n",
    "2. You will need to check if each name in boyNames is in girlNames - this will require a nested loop.\n",
    "3. If a name is in both, you will want to save it to another list (sameNames) and at the same time calculate the percentage.\n",
    "4. Keep in mind that you will need to strip the % off the %'s.\n",
    "5. Your program should have a total of 2 user defined functions:\n",
    "   1. A main function that opens the file and reads in the data, calls the other function, and then outputs to `SameNames.txt`\n",
    "   2. A function that checks for same names and returns a table with the same names and their percentages\n",
    "6. You do not need to deal with exceptions.\n",
    "7. Your code should be properly commented!\n"
   ]
  },
  {
   "cell_type": "code",
   "execution_count": 35,
   "id": "298c7458-58d4-426d-b87b-a75cc44d4196",
   "metadata": {},
   "outputs": [
    {
     "ename": "TypeError",
     "evalue": "not all arguments converted during string formatting",
     "output_type": "error",
     "traceback": [
      "\u001b[0;31m---------------------------------------------------------------------------\u001b[0m",
      "\u001b[0;31mTypeError\u001b[0m                                 Traceback (most recent call last)",
      "Cell \u001b[0;32mIn[35], line 33\u001b[0m\n\u001b[1;32m     30\u001b[0m         outputfile\u001b[38;5;241m.\u001b[39mwrite(\u001b[38;5;124m\"\u001b[39m\u001b[38;5;132;01m%s\u001b[39;00m\u001b[38;5;130;01m\\n\u001b[39;00m\u001b[38;5;124m\"\u001b[39m \u001b[38;5;241m%\u001b[39m (name, percentage))\n\u001b[1;32m     31\u001b[0m     outputfile\u001b[38;5;241m.\u001b[39mclose()\n\u001b[0;32m---> 33\u001b[0m main()\n",
      "Cell \u001b[0;32mIn[35], line 30\u001b[0m, in \u001b[0;36mmain\u001b[0;34m()\u001b[0m\n\u001b[1;32m     28\u001b[0m outputfile \u001b[38;5;241m=\u001b[39m \u001b[38;5;28mopen\u001b[39m(\u001b[38;5;124m\"\u001b[39m\u001b[38;5;124mSameNames.txt\u001b[39m\u001b[38;5;124m\"\u001b[39m, \u001b[38;5;124m\"\u001b[39m\u001b[38;5;124mw\u001b[39m\u001b[38;5;124m\"\u001b[39m)\n\u001b[1;32m     29\u001b[0m \u001b[38;5;28;01mfor\u001b[39;00m name, percentage \u001b[38;5;129;01min\u001b[39;00m bothNames:\n\u001b[0;32m---> 30\u001b[0m     outputfile\u001b[38;5;241m.\u001b[39mwrite(\u001b[38;5;124m\"\u001b[39m\u001b[38;5;132;01m%s\u001b[39;00m\u001b[38;5;130;01m\\n\u001b[39;00m\u001b[38;5;124m\"\u001b[39m \u001b[38;5;241m%\u001b[39m (name, percentage))\n\u001b[1;32m     31\u001b[0m outputfile\u001b[38;5;241m.\u001b[39mclose()\n",
      "\u001b[0;31mTypeError\u001b[0m: not all arguments converted during string formatting"
     ]
    }
   ],
   "source": [
    "# Checks for the same names \n",
    "def sameNames(boyNames, boyPercent, girlNames, girlPercent):\n",
    "    # Returned to this list with the names and their percent\n",
    "    bothNames = []\n",
    "    # for loops that loops on the boys and girls names\n",
    "    for i in range(len(boyNames)):\n",
    "        for j in range(len(girlNames)):\n",
    "            # if name is found in boy's and girl's lists\n",
    "            if boyNames[i] == girlNames[j]:\n",
    "                # Gives us the total percentage\n",
    "                bothPercentages = float(boyPercent[i].strip(\"%\")) + float(girlPercent[j].strip(\"%\"))\n",
    "                bothNames.append((boyNames[i], bothPercentages))\n",
    "    return bothNames\n",
    "\n",
    "# Runs the functions\n",
    "def main():\n",
    "    # lists to store the names and percentages \n",
    "    boyNames = []\n",
    "    boyPercent = []\n",
    "    girlNames = []\n",
    "    girlPercent = []\n",
    "\n",
    "    # Should open the file given and reads that data\n",
    "    file = open(\"babynames.txt\", \"r\")\n",
    "    for line in file:\n",
    "        columns = line.split()\n",
    "        # Defines which column is what and where it is going\n",
    "        boyNames.append(columns[1])\n",
    "        boyPercent.append(columns[2])\n",
    "        girlNames.append(columns[3])\n",
    "        girlPercent.append(columns[4])\n",
    "    file.close()\n",
    "\n",
    "    # Calls the functions\n",
    "    bothNames = sameNames(boyNames, boyPercent, girlNames, girlPercent)\n",
    "\n",
    "    # This should open an output file. However, I don't remember how to this, so this is \n",
    "    # the only piece that is causing the code to not execute properly. I have no clue what\n",
    "    # I am missing here. I thought \"%s\" in each line would fix it, but it states that not \n",
    "    # all agruments are converted during the formatting. \n",
    "    outputfile = open(\"SameNames.txt\", \"w\")\n",
    "    for name, percentage in bothNames:\n",
    "        outputfile.write(\"%s\\n\" % (name, percentage))\n",
    "\n",
    "main()"
   ]
  },
  {
   "cell_type": "code",
   "execution_count": null,
   "id": "6f2e2e56-0ca8-473a-aa65-9070d081c321",
   "metadata": {},
   "outputs": [],
   "source": []
  }
 ],
 "metadata": {
  "kernelspec": {
   "display_name": "Python [conda env:base] *",
   "language": "python",
   "name": "conda-base-py"
  },
  "language_info": {
   "codemirror_mode": {
    "name": "ipython",
    "version": 3
   },
   "file_extension": ".py",
   "mimetype": "text/x-python",
   "name": "python",
   "nbconvert_exporter": "python",
   "pygments_lexer": "ipython3",
   "version": "3.12.7"
  }
 },
 "nbformat": 4,
 "nbformat_minor": 5
}
