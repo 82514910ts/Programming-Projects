{
 "cells": [
  {
   "cell_type": "markdown",
   "id": "bb7e7829-3586-4cf0-bbff-0d46a6c4922c",
   "metadata": {},
   "source": [
    "# <center> Lab 3: Flowcharts <center>\n",
    "\n",
    "Today's lab depends on the work of others, emphasizing the importance of clear flow charts in writing complex code. Before giving the steps to this lab, here's the general idea:\n",
    "\n",
    "* You are going to be given a scenario (similar to one from Monday) to write a flow chart for.\n",
    "* When you complete a flow chart, turn it in to Dr. Meier to get someone else's flow chart for a completely different problem, one which you will not have an English description of.\n",
    "* You will implement that flow chart in a code cell below and write out (in a Markdown cell below that) the test cases that provide coverage for that code.\n",
    "\n",
    "\n",
    "As with all labs, it's OK to talk with anyone in the class throughout. The only note is that you should be implementing the flow chart you are given in step 2, NOT the problem statement I gave the person who wrote the flow chart."
   ]
  },
  {
   "cell_type": "markdown",
   "id": "7a58a5fe-3735-4641-9c32-b686b88155a5",
   "metadata": {},
   "source": [
    "## Part 1: Creating a flowchart (10 pts)\n",
    "\n",
    "When you come to class you will be given a scenario and a blank sheet of paper. WRite your name, date, and scenario number (#1-4) at the top. Then create a clear flow chart depicting how the scenario should be completed. You can then hand in your flow chart to Dr. Meier to be checked. Will can also do a \"pre-check\" to make sure it looks good. \n",
    "\n",
    "I will not accept a sub-par flowchart. There is a lot of things you get to choose in a flowchart but I will expect you to follow the rules established in class for them. Here are the major things I look for: \n",
    "\n",
    "* Make sure you have an arrow coming in to the first box/diamond of the flowchart.\n",
    "* Make sure there is an arrow going out of ANY final box/diamond and off the page.\n",
    "* There is no \"if\" in the diamonds - the diamond shape communicates the \"if\".\n",
    "* Every shape should have exactly one arrow coming in to it.\n",
    "* Every rectangle should have exactly one arrow coming out of it.\n",
    "* Every diamond should have exactly *two* arrows coming out of it. One arrow must be labelled True and the other False (not T or F, 0 or 1, yes or no, or anything else).\n",
    "* As per special rule printed on every scenario, do not use and or or.\n",
    "* If lines cross in your drawing, make sure it is clear (somehow) which goes where. Some people use more than one color (pen + pencil), others draw an extra arrow to indicate direction, it's really up to you. This is generally only a problem if you have a LOT of crossover.\n",
    "* Normally you don't need 100% correct code in the shapes but I'll return any really confusing stuff. For example, print \"unknown\" is fine (although the correct syntax is print(\"unknown\")) but just a rectangle with \"unknown\" in it does not tell the reader what you want done with the string \"unknown\".\n",
    "* Last, I really suggest you do the flowchart in pencil and bring an eraser. Else you'll be left jamming the \"final\" flowchart into the corner of a page of paper which will be a pain for everyone so I might ask you to redraw it (even if you are right!).\n",
    "\n",
    "\n",
    "When you are done, I will mark you down for credit for this part. **1/3 of your grade for this lab depends on how good your flowchart is in depicting the situation.** If you simplify the scenario in your flowchart (even if it makes the code more efficient), you will lose points. If you make the flowchart more complex than it needs to be, you will lose points. A perfect scoring flowchart is one that describes exactly what the scenario requires in a flowchart efficiently (with diamonds, boxes, and lines between)."
   ]
  },
  {
   "cell_type": "markdown",
   "id": "926822f8-314c-45b6-adca-35dd670b1a03",
   "metadata": {},
   "source": [
    "## Part 2: Write the code (10 pts)\n",
    "When you complete the first step, Dr. Meier will give you a flowchart that was made by another student for a different scenario. You are going to implement the scenario you are given in the code cell below this one. First make sure to include comments that list the scenario number and the name of the student whose flowchart you are going to implement. If you are accidentally given a scenario with the same number as the one you did for step 1, plesae ask for a new flowchart!\n",
    "\n",
    "Your job is to implement this flowchart in Python - even if you know it is wrong and does not depict the scenario correctly, if you implement the flowchart in Python correctly (with good style and comments), then you will get full credit. The only way to lose points on this part is to add more non-comment code than the flowchart depicts (e.g. using AND/OR when the flowchart does not) or skip steps shown in the flowchart. You ARE allowed to consult with the flowchart maker if you are confused about a point but they are NOT allowed to alter their own flowchart without instructor permmission (which I will not give in most cases)."
   ]
  },
  {
   "cell_type": "code",
   "execution_count": 23,
   "id": "ec43d989-d3dd-4421-b038-c2002a83baa3",
   "metadata": {},
   "outputs": [
    {
     "name": "stdin",
     "output_type": "stream",
     "text": [
      "Enter the material (Steel, Brick, or Wood):  Wood\n",
      "Enter the sqft of material:  400\n"
     ]
    },
    {
     "name": "stdout",
     "output_type": "stream",
     "text": [
      "Low\n"
     ]
    }
   ],
   "source": [
    "## Ethan Huyghe\n",
    "## Scenario 1\n",
    "\n",
    "\n",
    "# Allows the user to input information. \n",
    "material = input(\"Enter the material (Steel, Brick, or Wood): \")\n",
    "userInput = input(\"Enter the sqft of material: \")\n",
    "sqft = float(userInput)\n",
    "\n",
    "# Executed the functions with conditions\n",
    "if material == \"Steel\":\n",
    "    print(\"High\")\n",
    "if material == \"Brick\":\n",
    "    if sqft > 2000:\n",
    "        print(\"High\")\n",
    "    elif sqft < 500:\n",
    "        print(\"Low\")\n",
    "    else:\n",
    "        print(\"Medium\")\n",
    "if material == \"Wood\":\n",
    "    if sqft > 2000:\n",
    "        print(\"Unknown\")\n",
    "    elif sqft < 500:\n",
    "        print(\"Low\")\n",
    "    else:\n",
    "        print(\"Medium\")\n",
    "else:\n",
    "    print(\"Unknown\")\n",
    "    \n",
    "    "
   ]
  },
  {
   "cell_type": "markdown",
   "id": "6b63feaf-cd0b-42e7-b806-662f31dbad4a",
   "metadata": {},
   "source": [
    "## Part 3: Identify test cases (10 pts)\n",
    "\n",
    "Finally, upon completing coding, in a Markdown cell below this create a table of test cases, as per section 3.6 of the text. There should be 3 columns: Test case, expected output, comment.  Recall that a test case is an example of what you would type in for all inputs and the comment should be what type of test case it is (general, boundary, or error). This table will be graded on completeness for tests including main tests for every output and boundary tests as needed as well as 1-2 invalid inputs. I will be matching test cases to the flowchart you were provided from the other student, not your code (although they both should do the same thing).\n",
    "\n",
    "Note that you can look at the text of this cell to get the start to a table, and more information can be found on [this site](https://www.codecademy.com/resources/docs/markdown/tables).\n",
    "\n",
    "| Test case| Expected Output| Comment | \n",
    "|----------|----------------|---------|\n",
    "|          |                |         |"
   ]
  },
  {
   "cell_type": "markdown",
   "id": "62c8cdfc-daa5-4b5d-a641-659f3ead8a27",
   "metadata": {},
   "source": [
    "| Test Case        | Expected Output |        Comment        |\n",
    "|:-----------      |:---------------:|----------------------:|\n",
    "|\"Steel\" 15000 sqrt| High            | General test          | \n",
    "|\"Brick\" 3500 sqrt | High            | General test          |\n",
    "|\"Brick\" 150 sqrt  | Low             | General test          |\n",
    "|\"Brick\" 1700 sqrt | Medium          | General test          |\n",
    "|\"Wood\" 4000sqrt   | Unknown         | Boundary test         |\n",
    "|\"Wood\" 50 sqrt    | Low             | Boundary test         |\n",
    "|\"Wood\" 1650 sqrt  | Medium          | Boundary test         |\n",
    "|\"Diamond\" 10 sqrt | Unknown         | Error test            |"
   ]
  },
  {
   "cell_type": "code",
   "execution_count": null,
   "id": "9af92cb0-ea78-41ba-9531-b06c447b575d",
   "metadata": {},
   "outputs": [],
   "source": []
  }
 ],
 "metadata": {
  "kernelspec": {
   "display_name": "Python [conda env:base] *",
   "language": "python",
   "name": "conda-base-py"
  },
  "language_info": {
   "codemirror_mode": {
    "name": "ipython",
    "version": 3
   },
   "file_extension": ".py",
   "mimetype": "text/x-python",
   "name": "python",
   "nbconvert_exporter": "python",
   "pygments_lexer": "ipython3",
   "version": "3.12.7"
  }
 },
 "nbformat": 4,
 "nbformat_minor": 5
}
