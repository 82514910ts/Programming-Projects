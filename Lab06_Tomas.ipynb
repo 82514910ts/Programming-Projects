{
 "cells": [
  {
   "cell_type": "markdown",
   "id": "4e00d532-bd4f-4c6e-807d-626d1cea87b2",
   "metadata": {},
   "source": [
    "# <center> Lab 06: Lists </center>\n",
    "Today you are going to try to fix some really bad code! Because the internet is filled with bad code. Along the way you will work with lists and user defined functions. Hopefully by the end of this you will understand why code style matters"
   ]
  },
  {
   "cell_type": "code",
   "execution_count": 13,
   "id": "e4f3e3bb-de1f-40f9-b467-0af24bb967e2",
   "metadata": {},
   "outputs": [
    {
     "name": "stdout",
     "output_type": "stream",
     "text": [
      "Welcome to Roderick's Chikon and Gravy\n"
     ]
    },
    {
     "name": "stdin",
     "output_type": "stream",
     "text": [
      "Would you like some chikon? y\n"
     ]
    },
    {
     "name": "stdout",
     "output_type": "stream",
     "text": [
      "I got some chikon!  Enjoy\n"
     ]
    },
    {
     "name": "stdin",
     "output_type": "stream",
     "text": [
      "Would you like some chikon? y\n"
     ]
    },
    {
     "name": "stdout",
     "output_type": "stream",
     "text": [
      "I got some chikon!  Enjoy\n"
     ]
    },
    {
     "name": "stdin",
     "output_type": "stream",
     "text": [
      "Would you like some chikon? y\n"
     ]
    },
    {
     "name": "stdout",
     "output_type": "stream",
     "text": [
      "I got some chikon!  Enjoy\n"
     ]
    },
    {
     "name": "stdin",
     "output_type": "stream",
     "text": [
      "Would you like some chikon? y\n"
     ]
    },
    {
     "name": "stdout",
     "output_type": "stream",
     "text": [
      "I got some chikon!  Enjoy\n"
     ]
    },
    {
     "name": "stdin",
     "output_type": "stream",
     "text": [
      "Would you like some chikon? y\n"
     ]
    },
    {
     "name": "stdout",
     "output_type": "stream",
     "text": [
      "I got some chikon!  Enjoy\n"
     ]
    },
    {
     "name": "stdin",
     "output_type": "stream",
     "text": [
      "Would you like some chikon? y\n"
     ]
    },
    {
     "name": "stdout",
     "output_type": "stream",
     "text": [
      "I got some chikon!  Enjoy\n"
     ]
    },
    {
     "name": "stdin",
     "output_type": "stream",
     "text": [
      "Would you like some chikon? y\n"
     ]
    },
    {
     "name": "stdout",
     "output_type": "stream",
     "text": [
      "I got some chikon!  Enjoy\n"
     ]
    },
    {
     "name": "stdin",
     "output_type": "stream",
     "text": [
      "Would you like some chikon? y\n"
     ]
    },
    {
     "name": "stdout",
     "output_type": "stream",
     "text": [
      "I got some chikon!  Enjoy\n"
     ]
    },
    {
     "name": "stdin",
     "output_type": "stream",
     "text": [
      "Would you like some chikon? y\n"
     ]
    },
    {
     "name": "stdout",
     "output_type": "stream",
     "text": [
      "I got some chikon!  Enjoy\n"
     ]
    },
    {
     "name": "stdin",
     "output_type": "stream",
     "text": [
      "Would you like some chikon? y\n"
     ]
    },
    {
     "name": "stdout",
     "output_type": "stream",
     "text": [
      "I got some chikon!  Enjoy\n",
      "I hope you enjoyed your chikon!\n",
      "['chikon', 'chikon', 'chikon', 'chikon', 'chikon', 'chikon', 'chikon', 'chikon', 'chikon', 'chikon']\n"
     ]
    }
   ],
   "source": [
    "def servedChikon(totalChikon):\n",
    "    if totalChikon > 0:\n",
    "        print(\"I got some chikon!  Enjoy\")\n",
    "        return totalChikon - 1\n",
    "    else:\n",
    "        print(\"No chikon left.  Sorry\")\n",
    "        return 0\n",
    "\n",
    "\n",
    "def main():\n",
    "# Initial number of servings of chicken available\n",
    "    totalChikon = 10\n",
    "    print(\"Welcome to Roderick's Chikon and Gravy\")\n",
    "    e = False\n",
    "    chikonOnly = 0\n",
    "    chikonAndGravy = 0\n",
    "# Loop to take orders until no more chicken is available    \n",
    "    while not e:\n",
    "        custResponse = input(\"Would you like some chikon?\")\n",
    "\n",
    "        if custResponse == \"y\":\n",
    "            gravyResponse = input(\"Would you like some gravy with the chikon?\")\n",
    "\n",
    "            if gravyResponse == \"y\":\n",
    "                print(\"You will get some chikon and gravy then!\")\n",
    "                chikonAndGravy += 1\n",
    "            else:\n",
    "                totalChikon = servedChikon(totalChikon)\n",
    "                chikonOnly += 1  # Add a chikon to the orders list\n",
    "\n",
    "        elif custResponse == \"n\":\n",
    "            e = True  # Stop if the customer says no more chikon\n",
    "        \n",
    "        else:\n",
    "            e = True\n",
    "        \n",
    "        # Exit the loop if there is no more chikon\n",
    "        if totalChikon == 0:\n",
    "            e = True\n",
    "    print(\"I hope you enjoyed your chikon!\")\n",
    "    print(\"Chikon with gravy orders: \", (chikonGravy))\n",
    "    print(\"Chikon only: \", (chikon))\n",
    "\n",
    "\n",
    "def servedChikon(totalChikon):\n",
    "    if totalChikon > 0:\n",
    "        print(\"I got some chikon!  Enjoy\")\n",
    "        return totalChikon - 1\n",
    "    else:\n",
    "        print(\"No chikon left.  Sorry\")\n",
    "        return 0\n",
    "# Run the program\n",
    "main()\n"
   ]
  },
  {
   "cell_type": "markdown",
   "id": "bc0ef8fa-be4d-4ee9-9086-1e3c239c2d07",
   "metadata": {},
   "source": [
    "## Part 1: Fix the Style (10 points)\n",
    "\n",
    "Fix the style of this program so it is clear what it is doing. If you don't know what it is doing (likely due to the poor style), definitely talk with others and, if need be, the SI or Dr. Meier. You can't fix the style of a program without knowing what it does! You are allowed to restructure the program as long as it runs in the same way (no new inputs or prints) and has the same functions (albeit with new, appropriate names). Be sure to change the output and prompts to make sense given the purpose of the code - in particular, the printing of the list should also mention what is being listed and not have \"[\" or \"]\". (\"Chikon\" is spelled right for this particular restaurant.)"
   ]
  },
  {
   "cell_type": "markdown",
   "id": "2be1cdbb-5d43-49c4-952c-8e98e8157214",
   "metadata": {},
   "source": [
    "## Part 2: Adding gravy (5 points)\n",
    "\n",
    "Add to the code so that, if you want chikon, you are asked if you want gravy. If you say yes, the ONLY output for that order is, \"You will get some chikon and gravy then!\" If not, it should give the same output as the original program (only). In both cases, it will then ask you again if you want any chikon. (You can do whatever you would like to get this to happen - adding a new function is not required). Assume you have infinite gravy - tracking that is not part of this fix."
   ]
  },
  {
   "cell_type": "markdown",
   "id": "d9400be4-ea4d-44e9-8882-9389b55ce3b7",
   "metadata": {},
   "source": [
    "## Part 4: Fixing the List ( 5 points)\n",
    "\n",
    "Alter the list code so that it adds \"chikon and gravy\" or just \"chikon\" depending on whether the customer ordered gravy. At the end, fix the print of the list to just output the number of chikon+gravy orders and the number of chikon only orders. (If you would like to eliminate the use of a list for this functionality entirely, then that is fine by me but it is not required.)"
   ]
  },
  {
   "cell_type": "markdown",
   "id": "2aec609e-66e5-4f15-b8c1-d9e26b25ec9b",
   "metadata": {},
   "source": [
    "## Part 5: startingChikon Function (5 points)\n",
    "\n",
    "Write a simple function named startingChikon() that has no parameters and just asks the user for how much chikon we start with using input(). If the user types a positive integer, then return that value. If not, prompt again repeatedly until they enter a positive integer which you then return (see earlier sections on input validation) - the loop should be inside of your startingChikon function. Call startingChikon() at the start of the main() program and store the value returned into whatever you called your variable (formerly just c) for tracking the number of chikons left ."
   ]
  },
  {
   "cell_type": "markdown",
   "id": "fbeacdc5-892a-4fdc-ad02-26031828721b",
   "metadata": {},
   "source": [
    "## Part 6: Comments are NOT optional (5 points)\n",
    "Add correct comments above each function definition to describe what the function does, all parameters (with @params), and what it returns."
   ]
  },
  {
   "cell_type": "code",
   "execution_count": null,
   "id": "ad451e22-6038-413e-8195-f935e06de56e",
   "metadata": {},
   "outputs": [],
   "source": []
  }
 ],
 "metadata": {
  "kernelspec": {
   "display_name": "Python [conda env:base] *",
   "language": "python",
   "name": "conda-base-py"
  },
  "language_info": {
   "codemirror_mode": {
    "name": "ipython",
    "version": 3
   },
   "file_extension": ".py",
   "mimetype": "text/x-python",
   "name": "python",
   "nbconvert_exporter": "python",
   "pygments_lexer": "ipython3",
   "version": "3.12.7"
  }
 },
 "nbformat": 4,
 "nbformat_minor": 5
}
