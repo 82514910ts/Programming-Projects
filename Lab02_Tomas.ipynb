{
 "cells": [
  {
   "cell_type": "markdown",
   "id": "4b607f2f-a799-438b-a6c5-c833737b5a82",
   "metadata": {},
   "source": [
    "# Lab 2: Smiley\n",
    "\n",
    "In this lab you will practice creating graphics in Python using a simplified graphics tool. Please make sure to download ezgraphics.py from Canvas and save it to the same folder as your lab notebooks. Before beginning the lab I will yammer on for a little bit about graphics; you may also find it useful to review/have access to section 2.6 of the text."
   ]
  },
  {
   "cell_type": "code",
   "execution_count": 2,
   "id": "0ba98120-86a6-41be-85c9-c910921b4d37",
   "metadata": {},
   "outputs": [
    {
     "name": "stderr",
     "output_type": "stream",
     "text": [
      "2025-01-23 14:18:11.842 python[53450:617749] +[IMKClient subclass]: chose IMKClient_Legacy\n",
      "2025-01-23 14:18:11.843 python[53450:617749] +[IMKInputSession subclass]: chose IMKInputSession_Legacy\n"
     ]
    }
   ],
   "source": [
    "##\n",
    "#  This program creates a graphics window with a rectangle. It provides the\n",
    "#  template used with all of the graphical programs used in the book.\n",
    "#\n",
    "\n",
    "from ezgraphics import GraphicsWindow\n",
    "\n",
    "# Create the window and access the canvas.\n",
    "win = GraphicsWindow()\n",
    "canvas = win.canvas()\n",
    "\n",
    "canvas.setColor(200,0,200) #RGB\n",
    "\n",
    "# Draw on the canvas.\n",
    "canvas.drawOval(10, 10, 100, 100)\n",
    "\n",
    "canvas.drawLine(150,50,250,100)\n",
    "\n",
    "canvas.drawText(200,150,\"Hello\")\n",
    "\n",
    "# Wait for the user to close the window.\n",
    "win.wait()"
   ]
  },
  {
   "cell_type": "markdown",
   "id": "36ae6d9e-9e6f-4394-9ef5-4eac82b64794",
   "metadata": {},
   "source": [
    "When you run the code cell above, a separate window should open with a circle, line, and text. "
   ]
  },
  {
   "cell_type": "markdown",
   "id": "38d5431e-cfe8-4249-8b69-30aa9e07b6a2",
   "metadata": {},
   "source": [
    "## Part 1: Working with circles (3 pts)\n",
    "\n",
    "In a code cell below this, write a program that prompts the user for the radius of a circle and then prints the area and circumference of a circle with that radius to the nearest hundredth. If the user inputs a negative number, convert it to a positive number of the same magnitude using abs(). You must import math's PI constant in doing this (from math import pi) and the area and circumference should be calculated using this. Then use the formatting tools from Section 2.5 to print with the correct value to the hundredths (you should not actually alter the radius unless it's negative)."
   ]
  },
  {
   "cell_type": "code",
   "execution_count": 16,
   "id": "60d2bffc-fd13-4351-b97b-6c1e8d8e8834",
   "metadata": {},
   "outputs": [
    {
     "name": "stdin",
     "output_type": "stream",
     "text": [
      "Enter the radius of an circle: -4\n"
     ]
    },
    {
     "name": "stdout",
     "output_type": "stream",
     "text": [
      "50.27\n",
      "25.13\n"
     ]
    }
   ],
   "source": [
    "from math import pi\n",
    "\n",
    "# insert a radius of a circle\n",
    "radius = float(input(\"Enter the radius of an circle:\"))\n",
    "\n",
    "# Converting negative number to positive number for radius\n",
    "radius = abs(radius)\n",
    "\n",
    "# Area of the circle\n",
    "area = pi * radius ** 2\n",
    "\n",
    "# Circumference of the circle\n",
    "circumference = 2 * pi * radius\n",
    "\n",
    "print(\"%.2f\" % area)\n",
    "print(\"%.2f\" % circumference)\n"
   ]
  },
  {
   "cell_type": "markdown",
   "id": "0862d32c-289c-46f0-a65a-ffc182571e9c",
   "metadata": {},
   "source": [
    "## Part 2: Basic Smiley (7 pts)\n",
    "\n",
    "Using what we learned in Section 2.6, in a code cell below this, create a program to draw a yellow circle with the radius given in the previous step (in pixels which is the default). Note: I suggest using .setColor to set the color of both outline and fill at the same time. Also, note that the width and height of a circle/oval is double its radius.\n",
    "\n",
    "While developing this graphic and later steps, I suggest starting with a single radius e.g. 50 pixels, but be sure to use the radius as if it could be anything. For example, when computing the width, use `width = radius * 2` instead of `width = 100`. This will make later testing when the radius can change much easier.\n",
    "\n",
    "Create eyes and a mouth using the draw tools. The size of these items should be proportional to the radius of the main circle - for example, the width of the mouth might be 1/6 the radius of the entire circle. It is up to you what exact shapes you want to use for the eyes and mouth. An example can be found below if you get stuck. NOTE: FOR NOW, the face only needs to look good for a single input - put this pixel input as a comment in your code somewhere prominent so I know what value you had working at some point.  You still MUST use the input value as if it could be anything, though."
   ]
  },
  {
   "cell_type": "code",
   "execution_count": 48,
   "id": "9bbfe27f-8773-494c-912b-c6cc23f60764",
   "metadata": {},
   "outputs": [
    {
     "name": "stdin",
     "output_type": "stream",
     "text": [
      "Enter the radius of an circle: 100\n"
     ]
    }
   ],
   "source": [
    "##Example of working with graphics, in case you need some guidance for the Part 2\n",
    "from ezgraphics import GraphicsWindow\n",
    "# Create the window and access the canvas.\n",
    "win = GraphicsWindow()\n",
    "canvas = win.canvas()\n",
    "\n",
    "# I used 100 as the radius for this smiley face.\n",
    "radius = float(input(\"Enter the radius of an circle:\"))\n",
    "\n",
    "width = radius * 2\n",
    "widthMouth = radius * 2 / 6\n",
    "\n",
    "# Face\n",
    "canvas.setColor(250, 250, 25)\n",
    "canvas.drawOval(125, 125, 200, width)\n",
    "\n",
    "# Left eye\n",
    "canvas.setColor(\"black\")\n",
    "canvas.drawOval(185, 155, 20, 40)\n",
    "\n",
    "#Right eye\n",
    "canvas.setColor(\"black\")\n",
    "canvas.drawOval(245, 155, 20, 40)\n",
    "\n",
    "# Mouth\n",
    "canvas.setColor(\"brown\")\n",
    "canvas.drawOval(190, 245, 70, widthMouth)\n",
    "\n",
    "\n",
    "#canvas.clear()\n",
    "#canvas.drawRectangle(10,50,100,100)\n",
    "\n",
    "win.wait()\n",
    "\n"
   ]
  },
  {
   "cell_type": "markdown",
   "id": "e9b3fadc-d8f7-496a-b953-90d05fb54268",
   "metadata": {},
   "source": [
    "## Part 3: This is random (3 pts)\n",
    "\n",
    "*Note: This step does not use graphics in any way.*\n",
    "\n",
    "This is great and all but wouldn't it be fun to have the face appear in a random location on the screen? To do that, take a look at the [documentation page on the random library](https://docs.python.org/3/library/random.html) which is included in Python. In particular, after including the line \"from random import *\" to set things up, part 9.6.7 (basic examples) shows you how to generate random numbers. Just for practice, make sure you can import random correctly, generate numbers from 0 to 10, and print them. Comment out any print statement from this step before continuing - I just want to make sure you're doing this part right later on!"
   ]
  },
  {
   "cell_type": "code",
   "execution_count": 35,
   "id": "0eb469f6-8382-43e9-9938-449e067a5e68",
   "metadata": {},
   "outputs": [
    {
     "name": "stdout",
     "output_type": "stream",
     "text": [
      "5\n"
     ]
    }
   ],
   "source": [
    "from random import *\n",
    "\n",
    "# Gives random numbers from 0 to 10. \n",
    "randomNum = randrange(0,10)\n",
    "print(randomNum)\n",
    "\n",
    "\n"
   ]
  },
  {
   "cell_type": "markdown",
   "id": "a5912493-3bbf-40be-bd80-ef5b81933a50",
   "metadata": {},
   "source": [
    "## Part 4: Moving Around (7 pts)\n",
    "\n",
    "Now the fun part: You can use canvas.height() to retrieve the height of the canvas you are drawing on (similarly, canvas.width() retrieves the width). Using these tools, generate a y-value between 0 and canvas.height()-radius\\*2 (that is, the height of the canvas minus the height of your circle so the circle stays on the page), an x-value between 0 and canvas.width()-radius\\*2, and set the anchor point of the yellow circle to that position. For example, if my canvas is 400x400 and I input a radius of 100, then I would generate an x_value between 0 and 200 then a y_value between 0 and 200 to use that as the anchor point for the yellow circle. Get this working with the yellow circle (not the eyes or anything else) before continuing.\n",
    "\n",
    "In a code cell below this one, copy your code from Part 2, and then edit it so that the circle can move around."
   ]
  },
  {
   "cell_type": "code",
   "execution_count": 22,
   "id": "78d199f8-9519-49bf-957e-f7d0a1a76100",
   "metadata": {},
   "outputs": [],
   "source": [
    "from ezgraphics import GraphicsWindow\n",
    "from random import *\n",
    "# Create the window and access the canvas.\n",
    "win = GraphicsWindow()\n",
    "canvas = win.canvas()\n",
    "\n",
    "height = canvas.height()\n",
    "width = canvas.width()\n",
    "\n",
    "radius = 100\n",
    "\n",
    "y_value = randrange(0, height - radius * 2)\n",
    "x_value = randrange(0, width - radius * 2)\n",
    "\n",
    "# Face\n",
    "canvas.setColor(250, 250, 25)\n",
    "canvas.drawOval(x_value, y_value, 200, 175)\n",
    "\n",
    "win.wait()\n"
   ]
  },
  {
   "cell_type": "markdown",
   "id": "691cad9f-1aec-48c1-ab4e-bef3d818d644",
   "metadata": {},
   "source": [
    "## Part 5: Moving Around II (5 pts)\n",
    "\n",
    "Move the eyes and mouth depending on the location of the yellow circle. This means that the anchor points for the eyes and mouth will be a value that depends in the x_value and y_value found in the last step. You can edit the code in the cell for Part 4, you don't need to copy it again."
   ]
  },
  {
   "cell_type": "code",
   "execution_count": 46,
   "id": "9d8b2b6c-3e64-44f0-8d09-b4a19cff330a",
   "metadata": {},
   "outputs": [],
   "source": [
    "from ezgraphics import GraphicsWindow\n",
    "from random import *\n",
    "# Create the window and access the canvas.\n",
    "win = GraphicsWindow()\n",
    "canvas = win.canvas()\n",
    "\n",
    "width = radius * 2\n",
    "widthMouth = radius * 2 / 6\n",
    "\n",
    "\n",
    "height = canvas.height()\n",
    "width = canvas.width()\n",
    "\n",
    "radius = 100\n",
    "\n",
    "y_value = randrange(0, height - radius * 2)\n",
    "x_value = randrange(0, width - radius * 2)\n",
    "\n",
    "# Face\n",
    "canvas.setColor(250, 250, 25)\n",
    "canvas.drawOval(x_value, y_value, 200, 175)\n",
    "\n",
    "# Left eye\n",
    "canvas.setColor(\"black\")\n",
    "leftEyeX = x_value + radius - 30\n",
    "leftEyeY = y_value + 40\n",
    "canvas.drawOval(leftEyeX , leftEyeY, 20, 40)\n",
    "\n",
    "\n",
    "#Right eye\n",
    "canvas.setColor(\"black\")\n",
    "leftEyeX = x_value + radius + 10 \n",
    "leftEyeY = y_value + 40\n",
    "canvas.drawOval(leftEyeX, leftEyeY, 20, 40)\n",
    "\n",
    "# Mouth\n",
    "canvas.setColor(\"brown\")\n",
    "mouthX = x_value + 65\n",
    "mouthY = y_value + 120\n",
    "canvas.drawOval(mouthX, mouthY, 70, widthMouth)\n",
    "\n",
    "win.wait()\n"
   ]
  },
  {
   "cell_type": "markdown",
   "id": "191a5d26-74ec-4f53-997f-4020ba89d145",
   "metadata": {},
   "source": [
    "## Part 6: To use \"if\" a little tiny bit (7 pts)\n",
    "\n",
    "Change the color of the base circle to red if radius < 100 and blue if radius >= 190 (else keep it yellow). This will involve writing an if-else near where you draw the (currently yellow) circle. Other elements do not need to change color or position. NOTE: 190 should work but just barely - if you get errors but ONLY if you enter 190 (or more), do not worry about them. You can edit the code in the cell for Part 4, you don't need to copy it again."
   ]
  },
  {
   "cell_type": "code",
   "execution_count": null,
   "id": "7e0678ef-8962-449c-9a62-949cd69532d0",
   "metadata": {},
   "outputs": [],
   "source": []
  },
  {
   "cell_type": "code",
   "execution_count": 97,
   "id": "475bef49-3b96-46cf-b089-d553c9a66c77",
   "metadata": {},
   "outputs": [],
   "source": [
    "from ezgraphics import GraphicsWindow\n",
    "from random import *\n",
    "\n",
    "# Create the window and access the canvas.\n",
    "win = GraphicsWindow()\n",
    "canvas = win.canvas()\n",
    "\n",
    "height = canvas.height()\n",
    "width = canvas.width()\n",
    "\n",
    "\n",
    "# This randomly gives us a number between 50 and 195. \n",
    "radius = randrange(50, 195)\n",
    "\n",
    "y_value = randrange(0, height - radius * 2)\n",
    "x_value = randrange(0, width - radius * 2)\n",
    "\n",
    "# changes color based on random number given from above\n",
    "if radius < 100:\n",
    "    canvas.setColor(\"red\")\n",
    "elif radius >= 190:\n",
    "    canvas.setColor(\"blue\")\n",
    "else:\n",
    "    canvas.setColor(\"yellow\")\n",
    "\n",
    "\n",
    "radius = 100\n",
    "\n",
    "# Circle for face\n",
    "canvas.drawOval(x_value, y_value, 200, 175)\n",
    "\n",
    "# Left eye\n",
    "canvas.setColor(\"black\")\n",
    "leftEyeX = x_value + radius - 30\n",
    "leftEyeY = y_value + 40\n",
    "canvas.drawOval(leftEyeX , leftEyeY, 20, 40)\n",
    "\n",
    "\n",
    "#Right eye\n",
    "canvas.setColor(\"black\")\n",
    "leftEyeX = x_value + radius + 10\n",
    "leftEyeY = y_value + 40 \n",
    "canvas.drawOval(leftEyeX, leftEyeY, 20, 40)\n",
    "\n",
    "# Mouth\n",
    "canvas.setColor(\"brown\")\n",
    "mouthX = x_value + 65\n",
    "mouthY = y_value + 120\n",
    "canvas.drawOval(mouthX, mouthY, 70, widthMouth)\n",
    "\n",
    "win.wait()\n"
   ]
  },
  {
   "cell_type": "markdown",
   "id": "70bfa000-dc69-4696-ae5a-be74da3502e9",
   "metadata": {},
   "source": [
    "## Part 7: Looking Good (3 pts)\n",
    "\n",
    "Finally, get your \"smiley face\" to look good in as wide a variety of radii as possible. For example, if you did all previous steps with radius = 50, then see what happens when radius = 100 or radius = 10. If you made the size of the circle, eyes, and mouth rely on the variable radius, then it will be close to OK, maybe needing a little tweaking. The final grading of this lab will involve Dr. Meier trying 3 radii which she will not tell you ahead of time - you only get the last 3 points if your smiley face looks OK at all 3 of these radii!\n",
    "\n",
    "You can edit the code in the cell for part 4, or if you are worried about messing up the work you have already done you can copy it into a code cell below this to edit it."
   ]
  },
  {
   "cell_type": "code",
   "execution_count": null,
   "id": "d38b7db7-5cac-4941-abb6-22a82a33f3d9",
   "metadata": {},
   "outputs": [],
   "source": []
  }
 ],
 "metadata": {
  "kernelspec": {
   "display_name": "Python [conda env:base] *",
   "language": "python",
   "name": "conda-base-py"
  },
  "language_info": {
   "codemirror_mode": {
    "name": "ipython",
    "version": 3
   },
   "file_extension": ".py",
   "mimetype": "text/x-python",
   "name": "python",
   "nbconvert_exporter": "python",
   "pygments_lexer": "ipython3",
   "version": "3.12.7"
  }
 },
 "nbformat": 4,
 "nbformat_minor": 5
}
